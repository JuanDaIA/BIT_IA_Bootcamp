{
  "nbformat": 4,
  "nbformat_minor": 0,
  "metadata": {
    "colab": {
      "provenance": [],
      "authorship_tag": "ABX9TyNG9swbNFofyVT2UtEVvW2s",
      "include_colab_link": true
    },
    "kernelspec": {
      "name": "python3",
      "display_name": "Python 3"
    },
    "language_info": {
      "name": "python"
    }
  },
  "cells": [
    {
      "cell_type": "markdown",
      "metadata": {
        "id": "view-in-github",
        "colab_type": "text"
      },
      "source": [
        "<a href=\"https://colab.research.google.com/github/JuanDaIA/BIT_IA_Bootcamp/blob/main/S1_c3_NumeroPrimo.ipynb\" target=\"_parent\"><img src=\"https://colab.research.google.com/assets/colab-badge.svg\" alt=\"Open In Colab\"/></a>"
      ]
    },
    {
      "cell_type": "markdown",
      "source": [
        "**# Número Primo**\n",
        "\n",
        "Diseñar una función es_primo(numero) toma un número como entrada y determina si es un número primo.\n",
        "\n",
        "\n",
        "DEFINICIÓN: Un número primo es aquel que solo tiene dos divisores: 1 y él mismo.  Si el número es divisible por cualquier otro número aparte de 1 y él mismo, no es primo.\n",
        "\n",
        "Parámetros: numero (int): El número que queremos verificar si es primo.\n",
        "Return: bool: True si el número es primo, False si no lo es.\n",
        "\n",
        "se inicia desde 2, por que 1 es divisible por todos pero no es valido.\n",
        "\n"
      ],
      "metadata": {
        "id": "NYnXO8qw8H_w"
      }
    },
    {
      "cell_type": "code",
      "execution_count": 21,
      "metadata": {
        "id": "76RyQWKh7ukw"
      },
      "outputs": [],
      "source": [
        "def es_primo(numero):\n",
        "  if numero < 5:\n",
        "    return False\n",
        "    # range (inicio, fin, paso)\n",
        "  for i in range(2, numero):\n",
        "    # numero % i\n",
        "    # = 0 si es entero entonces es divisible,\n",
        "    # = 1 si es decimal no es divisible\n",
        "    resultado = numero /i\n",
        "    if numero % i == 0:\n",
        "      return False\n",
        "  return True"
      ]
    },
    {
      "cell_type": "code",
      "source": [
        "es_primo(41)"
      ],
      "metadata": {
        "colab": {
          "base_uri": "https://localhost:8080/"
        },
        "id": "tRtFxLXRD5ab",
        "outputId": "6c0e8d45-2c2f-4325-e02b-1ffa5ca8f9c5"
      },
      "execution_count": 24,
      "outputs": [
        {
          "output_type": "execute_result",
          "data": {
            "text/plain": [
              "True"
            ]
          },
          "metadata": {},
          "execution_count": 24
        }
      ]
    },
    {
      "cell_type": "code",
      "source": [
        "numero = 12\n",
        "j = 0\n",
        "for i in range(2, numero):\n",
        "        # numero % i\n",
        "        # = 0  es entero entonces es divisible,\n",
        "        # = 1  es decimal no es divisible\n",
        "        resultado = numero /i\n",
        "        if numero % i==0:\n",
        "          j = j+1\n",
        "          print(\"entre al i==0\" + str(j) +\"veces\")\n",
        "          print(\"en la iteración \" + str(i) + \" el resultado es \" + str(resultado)+\" es divisible\")\n",
        "        else:\n",
        "          print(\"en la iteración \" + str(i) + \" el resultado es \" + str(resultado)+\" no es divisible\")\n"
      ],
      "metadata": {
        "colab": {
          "base_uri": "https://localhost:8080/"
        },
        "id": "E59Bqp0tC0Gw",
        "outputId": "faf6255e-bb28-4424-c64e-b44bb3630330"
      },
      "execution_count": 32,
      "outputs": [
        {
          "output_type": "stream",
          "name": "stdout",
          "text": [
            "entre al i==01veces\n",
            "en la iteración 2 el resultado es 6.0 es divisible\n",
            "entre al i==02veces\n",
            "en la iteración 3 el resultado es 4.0 es divisible\n",
            "entre al i==03veces\n",
            "en la iteración 4 el resultado es 3.0 es divisible\n",
            "en la iteración 5 el resultado es 2.4 no es divisible\n",
            "entre al i==04veces\n",
            "en la iteración 6 el resultado es 2.0 es divisible\n",
            "en la iteración 7 el resultado es 1.7142857142857142 no es divisible\n",
            "en la iteración 8 el resultado es 1.5 no es divisible\n",
            "en la iteración 9 el resultado es 1.3333333333333333 no es divisible\n",
            "en la iteración 10 el resultado es 1.2 no es divisible\n",
            "en la iteración 11 el resultado es 1.0909090909090908 no es divisible\n"
          ]
        }
      ]
    },
    {
      "cell_type": "code",
      "source": [
        "es_primo(5)"
      ],
      "metadata": {
        "colab": {
          "base_uri": "https://localhost:8080/"
        },
        "id": "t_KxWny79DIE",
        "outputId": "646b840a-8ae6-4025-b5a6-215ce01bf749"
      },
      "execution_count": 33,
      "outputs": [
        {
          "output_type": "execute_result",
          "data": {
            "text/plain": [
              "True"
            ]
          },
          "metadata": {},
          "execution_count": 33
        }
      ]
    },
    {
      "cell_type": "code",
      "source": [
        "try:\n",
        "  numero = int(input(\"Ingrese un número: \"))\n",
        "\n",
        "\n",
        "except ValueError:\n",
        "  # mensaje progaramado\n",
        "  print(\"El valor ingresado no es un número entero.\")"
      ],
      "metadata": {
        "colab": {
          "base_uri": "https://localhost:8080/"
        },
        "id": "6EcSLKz2PuY5",
        "outputId": "a06e9f3a-8d78-42f7-d7cd-af5aa3184594"
      },
      "execution_count": 34,
      "outputs": [
        {
          "output_type": "stream",
          "name": "stdout",
          "text": [
            "Ingrese un número: juan\n",
            "El valor ingresado no es un número entero.\n"
          ]
        }
      ]
    },
    {
      "cell_type": "code",
      "source": [
        "try:\n",
        "  numero = int(input(\"Ingrese un número: \"))\n",
        "  P = es_primo(numero)\n",
        "  if P == True:\n",
        "    print(f\"El número {numero} es primo\")\n",
        "  else:\n",
        "    print(f\"El número {numero} NO es primo\")\n",
        "except ValueError:\n",
        "  # mensaje progaramado\n",
        "  print(\"El valor ingresado no es un número entero.\")"
      ],
      "metadata": {
        "colab": {
          "base_uri": "https://localhost:8080/"
        },
        "id": "u7uCau_JP6sw",
        "outputId": "b3512526-8494-464f-ce6a-0c5093a088a3"
      },
      "execution_count": 35,
      "outputs": [
        {
          "output_type": "stream",
          "name": "stdout",
          "text": [
            "Ingrese un número: 10\n",
            "El número 10 NO es primo\n"
          ]
        }
      ]
    }
  ]
}